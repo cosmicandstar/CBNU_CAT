{
 "cells": [
  {
   "cell_type": "code",
   "execution_count": 1,
   "metadata": {},
   "outputs": [],
   "source": [
    "import os\n",
    "os.environ['DJANGO_SETTINGS_MODULE'] = 'config.settings'\n",
    "os.environ[\"DJANGO_ALLOW_ASYNC_UNSAFE\"] = \"true\"\n",
    "\n",
    "import django\n",
    "django.setup()"
   ]
  },
  {
   "cell_type": "code",
   "execution_count": 2,
   "metadata": {},
   "outputs": [],
   "source": [
    "from main.models import *"
   ]
  },
  {
   "cell_type": "code",
   "execution_count": 3,
   "metadata": {},
   "outputs": [],
   "source": [
    "user_keyword = UserKeyword.objects.filter(user_id=1)"
   ]
  },
  {
   "cell_type": "code",
   "execution_count": 4,
   "metadata": {},
   "outputs": [
    {
     "data": {
      "text/plain": [
       "<QuerySet [<UserKeyword: UserKeyword object (27)>, <UserKeyword: UserKeyword object (28)>, <UserKeyword: UserKeyword object (29)>, <UserKeyword: UserKeyword object (30)>, <UserKeyword: UserKeyword object (31)>, <UserKeyword: UserKeyword object (32)>, <UserKeyword: UserKeyword object (33)>, <UserKeyword: UserKeyword object (34)>, <UserKeyword: UserKeyword object (35)>, <UserKeyword: UserKeyword object (36)>, <UserKeyword: UserKeyword object (37)>, <UserKeyword: UserKeyword object (38)>, <UserKeyword: UserKeyword object (39)>, <UserKeyword: UserKeyword object (40)>, <UserKeyword: UserKeyword object (41)>, <UserKeyword: UserKeyword object (42)>, <UserKeyword: UserKeyword object (43)>, <UserKeyword: UserKeyword object (44)>, <UserKeyword: UserKeyword object (45)>, <UserKeyword: UserKeyword object (46)>, '...(remaining elements truncated)...']>"
      ]
     },
     "execution_count": 4,
     "metadata": {},
     "output_type": "execute_result"
    }
   ],
   "source": [
    "user_keyword"
   ]
  },
  {
   "cell_type": "code",
   "execution_count": 5,
   "metadata": {},
   "outputs": [
    {
     "name": "stdout",
     "output_type": "stream",
     "text": [
      "과제 많음\n",
      "과제 보통\n",
      "과제 없음\n",
      "조모임 많음\n",
      "조모임 보통\n",
      "조모임 없음\n",
      "학점 느님\n",
      "학점 비율채워줌\n",
      "학점 깐깐함\n",
      "F폭격기\n",
      "출결 혼용\n",
      "출결 직접호명\n",
      "출결 지정좌석\n",
      "전자출결\n",
      "출결 반영안함\n",
      "시험 네 번 이상\n",
      "시험 세 번\n",
      "시험 두 번\n",
      "시험 한 번\n",
      "시험 없음\n",
      "pass/fail\n",
      "grade\n",
      "객관식\n",
      "주관식\n",
      "프로젝트 있음\n",
      "암기 많음\n"
     ]
    }
   ],
   "source": [
    "for keyword in user_keyword:\n",
    "    print(keyword.keyword)\n",
    "    "
   ]
  },
  {
   "cell_type": "code",
   "execution_count": null,
   "metadata": {},
   "outputs": [],
   "source": []
  }
 ],
 "metadata": {
  "kernelspec": {
   "display_name": "Python 3",
   "language": "python",
   "name": "python3"
  },
  "language_info": {
   "codemirror_mode": {
    "name": "ipython",
    "version": 3
   },
   "file_extension": ".py",
   "mimetype": "text/x-python",
   "name": "python",
   "nbconvert_exporter": "python",
   "pygments_lexer": "ipython3",
   "version": "3.7.7"
  }
 },
 "nbformat": 4,
 "nbformat_minor": 4
}
